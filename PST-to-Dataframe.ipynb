{
 "cells": [
  {
   "cell_type": "markdown",
   "id": "47bf0c67-2abf-4d14-81cc-2d29075c1811",
   "metadata": {},
   "source": [
    "# PST File to Dataframe to JSON"
   ]
  },
  {
   "cell_type": "markdown",
   "id": "8269e84d-c677-4918-aa21-e91e2a92ee61",
   "metadata": {},
   "source": [
    "This short script aims to read Outlook PST files and exract messages into a processable format such as a dataframe and saving it as JSON"
   ]
  },
  {
   "cell_type": "code",
   "execution_count": null,
   "id": "d2289a99-a8c3-457e-a1c9-aa96ea9504a0",
   "metadata": {},
   "outputs": [],
   "source": [
    "#!pip install libpff-python"
   ]
  },
  {
   "cell_type": "code",
   "execution_count": null,
   "id": "f71ec9b0-65bb-4f24-9c34-e696d4325472",
   "metadata": {},
   "outputs": [],
   "source": [
    "import pypff\n",
    "import pandas as pd\n",
    "import matplotlib.pyplot as plt\n",
    "import seaborn as sns"
   ]
  },
  {
   "cell_type": "code",
   "execution_count": null,
   "id": "a9ae221e-0953-4d24-a21c-af70be0cc2e6",
   "metadata": {},
   "outputs": [],
   "source": [
    "pst = pypff.file()\n",
    "\n",
    "# Add path to PST file\n",
    "filename = \"mailbox.pst\"\n",
    "\n",
    "pst.open(filename)"
   ]
  },
  {
   "cell_type": "code",
   "execution_count": null,
   "id": "47328ea0-55a2-4d89-b15a-15bff66d4d8f",
   "metadata": {},
   "outputs": [],
   "source": [
    "root = pst.get_root_folder()"
   ]
  },
  {
   "cell_type": "code",
   "execution_count": null,
   "id": "787623f0-768f-45c9-b693-202b06a369fa",
   "metadata": {},
   "outputs": [],
   "source": [
    "def parse_folder(base):\n",
    "    messages = []\n",
    "    for folder in base.sub_folders:\n",
    "        if folder.number_of_sub_folders:\n",
    "            messages += parse_folder(folder)\n",
    "        print(folder.name)\n",
    "        for message in folder.sub_messages:\n",
    "            messages.append({\n",
    "                \"subject\": message.subject,\n",
    "                \"message\": message.plain_text_body,\n",
    "                \"sender\": message.sender_name,\n",
    "                \"datetime\": message.client_submit_time\n",
    "            })\n",
    "    return messages\n",
    "\n",
    "messages = parse_folder(root)"
   ]
  },
  {
   "cell_type": "code",
   "execution_count": null,
   "id": "008b193c-8560-4555-933f-af41d7000cd6",
   "metadata": {},
   "outputs": [],
   "source": [
    "df = pd.DataFrame(messages)\n",
    "df.head()"
   ]
  },
  {
   "cell_type": "code",
   "execution_count": null,
   "id": "6d8545fc-1ad6-483d-b943-aab73c586099",
   "metadata": {},
   "outputs": [],
   "source": [
    "df.shape"
   ]
  },
  {
   "cell_type": "code",
   "execution_count": null,
   "id": "ad70d445",
   "metadata": {},
   "outputs": [],
   "source": [
    "# if message is of type bytes we have to decode it\n",
    "for index, row in df.iterrows():\n",
    "    if row['message'] is not None:\n",
    "        row['message'] = str(row['message'].decode(\"utf-8\"))"
   ]
  },
  {
   "cell_type": "code",
   "execution_count": null,
   "id": "955336cf-077e-4160-aee2-d23321b175f0",
   "metadata": {},
   "outputs": [],
   "source": [
    "# example mail\n",
    "df.iloc[8]['message'].decode()"
   ]
  },
  {
   "cell_type": "markdown",
   "id": "28e625ba",
   "metadata": {},
   "source": [
    "## Save Dataframe as JSON"
   ]
  },
  {
   "cell_type": "code",
   "execution_count": null,
   "id": "74b443d2",
   "metadata": {},
   "outputs": [],
   "source": [
    "# save file to json\n",
    "df.to_json(filename+\"_converted.json\")"
   ]
  },
  {
   "cell_type": "markdown",
   "id": "f9dda529",
   "metadata": {},
   "source": [
    "## Visualize mailbox mails over time"
   ]
  },
  {
   "cell_type": "code",
   "execution_count": null,
   "id": "5a193f73-7b53-4f4b-8ff9-3c803317857c",
   "metadata": {},
   "outputs": [],
   "source": [
    "df['datetime'] = df['datetime'].dt.tz_localize(tz='UTC')\n",
    "df['datetime'] = df['datetime'].dt.tz_convert(tz='Europe/Paris')"
   ]
  },
  {
   "cell_type": "code",
   "execution_count": null,
   "id": "1dd80a71-85a6-48fe-b534-39fdc1b43090",
   "metadata": {},
   "outputs": [],
   "source": [
    "df['hour'] = df['datetime'].dt.hour + df['datetime'].dt.minute / 60\n",
    "df['date'] = df['datetime'].dt.year + df['datetime'].dt.dayofyear / 365\n",
    "df['year'] = df['datetime'].dt.year"
   ]
  },
  {
   "cell_type": "code",
   "execution_count": null,
   "id": "cd8abb9e-6423-426e-b123-494e5860a095",
   "metadata": {},
   "outputs": [],
   "source": [
    "plt.clf()\n",
    "ax = sns.scatterplot(x=\"date\", y=\"hour\", alpha=.4, marker=\".\", data=df)\n",
    "ax.set(xlim=(df['year'].min(),df['year'].max()), ylim=(0,25))\n",
    "ax.set_xlabel(\"year\")\n",
    "ax.set_ylabel(\"time of the day\")\n",
    "ax.invert_yaxis()\n",
    "sns.despine()\n",
    "ax.get_figure().savefig(\"plot.png\", dpi=400)"
   ]
  }
 ],
 "metadata": {
  "kernelspec": {
   "display_name": "Python 3 (ipykernel)",
   "language": "python",
   "name": "python3"
  },
  "language_info": {
   "codemirror_mode": {
    "name": "ipython",
    "version": 3
   },
   "file_extension": ".py",
   "mimetype": "text/x-python",
   "name": "python",
   "nbconvert_exporter": "python",
   "pygments_lexer": "ipython3",
   "version": "3.9.1"
  }
 },
 "nbformat": 4,
 "nbformat_minor": 5
}
